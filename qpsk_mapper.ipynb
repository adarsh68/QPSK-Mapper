{
 "cells": [
  {
   "cell_type": "markdown",
   "id": "cfa2de8b",
   "metadata": {},
   "source": [
    "# A Nobel Implementaion : QPSK Modulation without for loop"
   ]
  },
  {
   "cell_type": "markdown",
   "id": "9bf04584",
   "metadata": {},
   "source": [
    "## QPSK Mapper :"
   ]
  },
  {
   "cell_type": "raw",
   "id": "df4f23b2",
   "metadata": {},
   "source": [
    "# seed = integer value for random thing\n",
    "# nbits= Total Number of Bits \n",
    "# modoreder = 2 ( for QPSK)\n",
    "# Return : Normalized QPSK symbols \n",
    "\n",
    "example : \n",
    "size of nbits = 1000 X 1\n",
    "size of modsymbols = 500 X 1 = (1000/2)"
   ]
  },
  {
   "cell_type": "code",
   "execution_count": 11,
   "id": "c5276cfc",
   "metadata": {},
   "outputs": [],
   "source": [
    "import numpy as np\n",
    "import matplotlib.pyplot as plt\n",
    "def qpsk_mapper(seed,nbits,modorder):\n",
    "    np.random.seed(seed=seed)\n",
    "    bits = np.random.randint(0, high=2, size=nbits)\n",
    "    bits = bits.reshape(-1,2)\n",
    "    reps = bits.size//2\n",
    "    bits = 1-2*bits\n",
    "    bits = np.sqrt(0.5)*bits\n",
    "    comp = np.array([[1,1J]])\n",
    "    comp = np.repeat(comp,reps,axis=0)\n",
    "    sym = bits*comp\n",
    "    modsymbols = np.sum(sym,axis=1).reshape(-1,1).astype(np.complex64)\n",
    "    return modsymbols"
   ]
  },
  {
   "cell_type": "markdown",
   "id": "c0146ae5",
   "metadata": {},
   "source": [
    "## Test :"
   ]
  },
  {
   "cell_type": "code",
   "execution_count": 12,
   "id": "3c517a1c",
   "metadata": {},
   "outputs": [],
   "source": [
    "seed = 10;\n",
    "nbits= 1000;\n",
    "modorder = 2;"
   ]
  },
  {
   "cell_type": "code",
   "execution_count": 13,
   "id": "a481bad1",
   "metadata": {},
   "outputs": [],
   "source": [
    "qpsk_symbols = qpsk_mapper(seed,nbits,modorder)"
   ]
  },
  {
   "cell_type": "code",
   "execution_count": 14,
   "id": "34f53f21",
   "metadata": {},
   "outputs": [
    {
     "data": {
      "text/plain": [
       "(500, 1)"
      ]
     },
     "execution_count": 14,
     "metadata": {},
     "output_type": "execute_result"
    }
   ],
   "source": [
    "qpsk_symbols.shape"
   ]
  },
  {
   "cell_type": "markdown",
   "id": "3b721595",
   "metadata": {},
   "source": [
    "## Time complexity :"
   ]
  },
  {
   "cell_type": "code",
   "execution_count": 15,
   "id": "16f3f75d",
   "metadata": {},
   "outputs": [
    {
     "name": "stdout",
     "output_type": "stream",
     "text": [
      "106 µs ± 23.9 µs per loop (mean ± std. dev. of 7 runs, 10,000 loops each)\n"
     ]
    }
   ],
   "source": [
    "%%timeit\n",
    "qpsk_symbols = qpsk_mapper(seed,nbits,modorder)"
   ]
  },
  {
   "cell_type": "markdown",
   "id": "63cd490b",
   "metadata": {},
   "source": [
    "## Constellation plot :"
   ]
  },
  {
   "cell_type": "code",
   "execution_count": 16,
   "id": "af9eb468",
   "metadata": {},
   "outputs": [
    {
     "data": {
      "text/plain": [
       "<matplotlib.collections.PathCollection at 0x1ca6489c910>"
      ]
     },
     "execution_count": 16,
     "metadata": {},
     "output_type": "execute_result"
    },
    {
     "data": {
      "image/png": "[encoded data removed]",
      "text/plain": [
       "<Figure size 432x288 with 1 Axes>"
      ]
     },
     "metadata": {
      "needs_background": "light"
     },
     "output_type": "display_data"
    }
   ],
   "source": [
    "plt.scatter(np.real(qpsk_symbols), np.imag(qpsk_symbols))"
   ]
  },
  {
   "cell_type": "code",
   "execution_count": null,
   "id": "e41ba87a",
   "metadata": {},
   "outputs": [],
   "source": []
  }
 ],
 "metadata": {
  "kernelspec": {
   "display_name": "Python 3 (ipykernel)",
   "language": "python",
   "name": "python3"
  },
  "language_info": {
   "codemirror_mode": {
    "name": "ipython",
    "version": 3
   },
   "file_extension": ".py",
   "mimetype": "text/x-python",
   "name": "python",
   "nbconvert_exporter": "python",
   "pygments_lexer": "ipython3",
   "version": "3.9.12"
  }
 },
 "nbformat": 4,
 "nbformat_minor": 5
}
